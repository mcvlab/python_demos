{
 "cells": [
  {
   "cell_type": "markdown",
   "id": "867d7cd7",
   "metadata": {},
   "source": [
    "# Pytorch下使用TensorBoard的示例"
   ]
  },
  {
   "cell_type": "code",
   "execution_count": 3,
   "id": "d69606e9",
   "metadata": {},
   "outputs": [
    {
     "name": "stdout",
     "output_type": "stream",
     "text": [
      "TensorFlow installation not found - running with reduced feature set.\r\n",
      "2.12.0\r\n"
     ]
    }
   ],
   "source": [
    "!tensorboard --version"
   ]
  },
  {
   "cell_type": "markdown",
   "id": "521a3d64",
   "metadata": {},
   "source": [
    "## 00. 一个总体情况的示例"
   ]
  },
  {
   "cell_type": "code",
   "execution_count": 4,
   "id": "2fbb4107",
   "metadata": {},
   "outputs": [],
   "source": [
    "from torch.utils.tensorboard import SummaryWriter\n",
    "writer = SummaryWriter()\n",
    "for n_iter in range(100):\n",
    "    writer.add_scalar('Loss/train', np.random.random(), n_iter)\n",
    "    writer.add_scalar('Loss/test', np.random.random(), n_iter)\n",
    "    writer.add_scalar('Accuracy/train', np.random.random(), n_iter)\n",
    "    writer.add_scalar('Accuracy/test', np.random.random(), n_iter)\n",
    "writer.close()"
   ]
  },
  {
   "cell_type": "markdown",
   "id": "6a421634",
   "metadata": {},
   "source": [
    "![](images/00.png)"
   ]
  },
  {
   "cell_type": "markdown",
   "id": "b3b38205",
   "metadata": {},
   "source": [
    "## 01. add_scalar"
   ]
  },
  {
   "cell_type": "code",
   "execution_count": 5,
   "id": "3e96f2a2",
   "metadata": {},
   "outputs": [],
   "source": [
    "from torch.utils.tensorboard import SummaryWriter\n",
    "writer = SummaryWriter(\"runs/scalar\")\n",
    "x = range(100)\n",
    "for i in x:\n",
    "    writer.add_scalar('y=2x', i * 2, i)\n",
    "writer.close()"
   ]
  },
  {
   "cell_type": "markdown",
   "id": "2290ac0d",
   "metadata": {},
   "source": [
    "![](images/01.png)"
   ]
  },
  {
   "cell_type": "markdown",
   "id": "26428d82",
   "metadata": {},
   "source": [
    "## 02. add_scalars"
   ]
  },
  {
   "cell_type": "code",
   "execution_count": 6,
   "id": "e8869491",
   "metadata": {},
   "outputs": [],
   "source": [
    "from torch.utils.tensorboard import SummaryWriter\n",
    "writer = SummaryWriter(\"runs/scalars\")\n",
    "r = 5\n",
    "for i in range(100):\n",
    "    writer.add_scalars('run_14h', {'xsinx':i*np.sin(i/r),\n",
    "                                    'xcosx':i*np.cos(i/r),\n",
    "                                    'tanx': np.tan(i/r)}, i)\n",
    "writer.close()"
   ]
  },
  {
   "cell_type": "markdown",
   "id": "efbcbd9e",
   "metadata": {},
   "source": [
    "![](images/02.png)"
   ]
  },
  {
   "cell_type": "markdown",
   "id": "3ff17995",
   "metadata": {},
   "source": [
    "## 03. add_histogram"
   ]
  },
  {
   "cell_type": "code",
   "execution_count": 7,
   "id": "9936b8c1",
   "metadata": {},
   "outputs": [],
   "source": [
    "from torch.utils.tensorboard import SummaryWriter\n",
    "import numpy as np\n",
    "writer = SummaryWriter(\"runs/histogram\")\n",
    "for i in range(10):\n",
    "    x = np.random.random(1000)\n",
    "    writer.add_histogram('distribution centers', x + i, i)\n",
    "writer.close()"
   ]
  },
  {
   "cell_type": "markdown",
   "id": "2e8cce52",
   "metadata": {},
   "source": [
    "![](images/03.png)"
   ]
  },
  {
   "cell_type": "markdown",
   "id": "c9eb6534",
   "metadata": {},
   "source": [
    "## 04. add_image"
   ]
  },
  {
   "cell_type": "code",
   "execution_count": 8,
   "id": "d8084127",
   "metadata": {},
   "outputs": [],
   "source": [
    "from torch.utils.tensorboard import SummaryWriter\n",
    "import numpy as np\n",
    "img = np.zeros((3, 100, 100))\n",
    "img[0] = np.arange(0, 10000).reshape(100, 100) / 10000\n",
    "img[1] = 1 - np.arange(0, 10000).reshape(100, 100) / 10000\n",
    "\n",
    "img_HWC = np.zeros((100, 100, 3))\n",
    "img_HWC[:, :, 0] = np.arange(0, 10000).reshape(100, 100) / 10000\n",
    "img_HWC[:, :, 1] = 1 - np.arange(0, 10000).reshape(100, 100) / 10000\n",
    "\n",
    "writer = SummaryWriter(\"runs/image\")\n",
    "writer.add_image('my_image', img, 0)\n",
    "\n",
    "# If you have non-default dimension setting, set the dataformats argument.\n",
    "writer.add_image('my_image_HWC', img_HWC, 0, dataformats='HWC')\n",
    "writer.close()"
   ]
  },
  {
   "cell_type": "markdown",
   "id": "097ec0c2",
   "metadata": {},
   "source": [
    "![](images/04.png)"
   ]
  },
  {
   "cell_type": "markdown",
   "id": "767833a5",
   "metadata": {},
   "source": [
    "## 05. add_images"
   ]
  },
  {
   "cell_type": "code",
   "execution_count": 9,
   "id": "c6264997",
   "metadata": {},
   "outputs": [],
   "source": [
    "from torch.utils.tensorboard import SummaryWriter\n",
    "import numpy as np\n",
    "\n",
    "img_batch = np.zeros((16, 3, 100, 100))\n",
    "for i in range(16):\n",
    "    img_batch[i, 0] = np.arange(0, 10000).reshape(100, 100) / 10000 / 16 * i\n",
    "    img_batch[i, 1] = (1 - np.arange(0, 10000).reshape(100, 100) / 10000) / 16 * i\n",
    "\n",
    "writer = SummaryWriter(\"runs/images\")\n",
    "writer.add_images('my_image_batch', img_batch, 0)\n",
    "writer.close()"
   ]
  },
  {
   "cell_type": "markdown",
   "id": "7dc0b696",
   "metadata": {},
   "source": [
    "![](images/05.png)"
   ]
  },
  {
   "cell_type": "markdown",
   "id": "226e49cd",
   "metadata": {},
   "source": [
    "## 06. add_figure"
   ]
  },
  {
   "cell_type": "code",
   "execution_count": 4,
   "id": "387706a7",
   "metadata": {},
   "outputs": [],
   "source": [
    "from torch.utils.tensorboard import SummaryWriter\n",
    "%matplotlib notebook\n",
    "import matplotlib.pyplot as plt\n",
    "\n",
    "writer = SummaryWriter(\"runs/figure\")\n",
    "x = np.arange(1.0, 20.0, 0.5)\n",
    "for i in range(10):\n",
    "    y = x**(2+i/10.0)\n",
    "    plt.clf()\n",
    "    fig = plt.figure()\n",
    "    plt.plot(x, y, \"-o\")\n",
    "    writer.add_figure(\"my_fig\", fig, i)\n",
    "    plt.close()\n",
    "writer.close()"
   ]
  },
  {
   "cell_type": "markdown",
   "id": "1df5d2db",
   "metadata": {},
   "source": [
    "![](images/06.png)"
   ]
  },
  {
   "cell_type": "markdown",
   "id": "472417b4",
   "metadata": {},
   "source": [
    "## 07. add_video 和 add_audio"
   ]
  },
  {
   "cell_type": "markdown",
   "id": "c36faaf0",
   "metadata": {},
   "source": [
    "## 08. add_text"
   ]
  },
  {
   "cell_type": "code",
   "execution_count": 7,
   "id": "10ccdd33",
   "metadata": {},
   "outputs": [],
   "source": [
    "from torch.utils.tensorboard import SummaryWriter\n",
    "writer = SummaryWriter(\"runs/text\")\n",
    "writer.add_text('lstm', 'This is an lstm', 0)\n",
    "writer.add_text('rnn', 'This is an rnn', 10)\n",
    "writer.close()"
   ]
  },
  {
   "cell_type": "markdown",
   "id": "4e5f6bf8",
   "metadata": {},
   "source": [
    "![](images/08.png)"
   ]
  },
  {
   "cell_type": "markdown",
   "id": "fee8dbd6",
   "metadata": {},
   "source": [
    "## 09. add_graph"
   ]
  },
  {
   "cell_type": "code",
   "execution_count": 8,
   "id": "e1e078f4",
   "metadata": {},
   "outputs": [],
   "source": [
    "import torch\n",
    "import torchvision\n",
    "from torch.utils.tensorboard import SummaryWriter\n",
    "from torchvision import datasets, transforms\n",
    "\n",
    "# Writer will output to ./runs/ directory by default\n",
    "writer = SummaryWriter(\"runs/graph\")\n",
    "\n",
    "transform = transforms.Compose([transforms.ToTensor(), transforms.Normalize((0.5,), (0.5,))])\n",
    "trainset = datasets.MNIST('mnist_train', train=True, download=True, transform=transform)\n",
    "trainloader = torch.utils.data.DataLoader(trainset, batch_size=64, shuffle=True)\n",
    "model = torchvision.models.resnet50(False)\n",
    "# Have ResNet model take in grayscale rather than RGB\n",
    "model.conv1 = torch.nn.Conv2d(1, 64, kernel_size=7, stride=2, padding=3, bias=False)\n",
    "images, labels = next(iter(trainloader))\n",
    "\n",
    "grid = torchvision.utils.make_grid(images)\n",
    "writer.add_image('images', grid, 0)\n",
    "writer.add_graph(model, images)\n",
    "writer.close()"
   ]
  },
  {
   "cell_type": "markdown",
   "id": "73abb73c",
   "metadata": {},
   "source": [
    "![](images/09.png)"
   ]
  },
  {
   "cell_type": "markdown",
   "id": "c40dc14b",
   "metadata": {},
   "source": [
    "## 10. add_embedding"
   ]
  },
  {
   "cell_type": "code",
   "execution_count": 3,
   "id": "6b11d06d",
   "metadata": {},
   "outputs": [],
   "source": [
    "import keyword\n",
    "import torch\n",
    "from torch.utils.tensorboard import SummaryWriter\n",
    "\n",
    "meta = []\n",
    "while len(meta)<100:\n",
    "    meta = meta+keyword.kwlist # get some strings\n",
    "meta = meta[:100]\n",
    "\n",
    "for i, v in enumerate(meta):\n",
    "    meta[i] = v+str(i)\n",
    "\n",
    "label_img = torch.rand(100, 3, 10, 32)\n",
    "for i in range(100):\n",
    "    label_img[i]*=i/100.0\n",
    "\n",
    "writer = SummaryWriter(\"runs/embedding\")\n",
    "writer.add_image('image', np.ones((3,3,3)), 0)\n",
    "writer.add_embedding(torch.randn(100, 5), metadata=meta, label_img=label_img)\n",
    "writer.add_embedding(torch.randn(100, 5), label_img=label_img)\n",
    "writer.add_embedding(torch.randn(100, 5), metadata=meta)\n",
    "writer.close()"
   ]
  },
  {
   "cell_type": "markdown",
   "id": "03223bb6",
   "metadata": {},
   "source": [
    "## 11. add_pr_curve"
   ]
  },
  {
   "cell_type": "code",
   "execution_count": 11,
   "id": "1a8e4ebc",
   "metadata": {},
   "outputs": [],
   "source": [
    "from torch.utils.tensorboard import SummaryWriter\n",
    "import numpy as np\n",
    "labels = np.random.randint(2, size=100)  # binary label\n",
    "predictions = np.random.rand(100)\n",
    "writer = SummaryWriter(\"runs/pr_curve\")\n",
    "writer.add_pr_curve('pr_curve', labels, predictions, 0)\n",
    "writer.close()"
   ]
  },
  {
   "cell_type": "markdown",
   "id": "34ffd561",
   "metadata": {},
   "source": [
    "![](images/11.png)"
   ]
  },
  {
   "cell_type": "markdown",
   "id": "e18e20a8",
   "metadata": {},
   "source": [
    "## 12. add_mesh"
   ]
  },
  {
   "cell_type": "code",
   "execution_count": 12,
   "id": "91f34aba",
   "metadata": {},
   "outputs": [],
   "source": [
    "from torch.utils.tensorboard import SummaryWriter\n",
    "vertices_tensor = torch.as_tensor([\n",
    "    [1, 1, 1],\n",
    "    [-1, -1, 1],\n",
    "    [1, -1, -1],\n",
    "    [-1, 1, -1],\n",
    "], dtype=torch.float).unsqueeze(0)\n",
    "colors_tensor = torch.as_tensor([\n",
    "    [255, 0, 0],\n",
    "    [0, 255, 0],\n",
    "    [0, 0, 255],\n",
    "    [255, 0, 255],\n",
    "], dtype=torch.int).unsqueeze(0)\n",
    "faces_tensor = torch.as_tensor([\n",
    "    [0, 2, 3],\n",
    "    [0, 3, 1],\n",
    "    [0, 1, 2],\n",
    "    [1, 3, 2],\n",
    "], dtype=torch.int).unsqueeze(0)\n",
    "\n",
    "writer = SummaryWriter(\"runs/mesh\")\n",
    "writer.add_mesh('my_mesh', vertices=vertices_tensor, colors=colors_tensor, faces=faces_tensor)\n",
    "\n",
    "writer.close()"
   ]
  },
  {
   "cell_type": "markdown",
   "id": "26121b9e",
   "metadata": {},
   "source": [
    "![](images/12.png)"
   ]
  },
  {
   "cell_type": "markdown",
   "id": "91d7380f",
   "metadata": {},
   "source": [
    "## 13. add_hparams"
   ]
  },
  {
   "cell_type": "code",
   "execution_count": 13,
   "id": "80859be0",
   "metadata": {},
   "outputs": [],
   "source": [
    "from torch.utils.tensorboard import SummaryWriter\n",
    "with SummaryWriter(\"runs/hparams\") as w:\n",
    "    for i in range(5):\n",
    "        w.add_hparams({'lr': 0.1*i, 'bsize': i},\n",
    "                      {'hparam/accuracy': 10*i, 'hparam/loss': 10*i})"
   ]
  },
  {
   "cell_type": "markdown",
   "id": "42a20ca6",
   "metadata": {},
   "source": [
    "![](images/13.png)"
   ]
  }
 ],
 "metadata": {
  "kernelspec": {
   "display_name": "Python 3 (ipykernel)",
   "language": "python",
   "name": "python3"
  },
  "language_info": {
   "codemirror_mode": {
    "name": "ipython",
    "version": 3
   },
   "file_extension": ".py",
   "mimetype": "text/x-python",
   "name": "python",
   "nbconvert_exporter": "python",
   "pygments_lexer": "ipython3",
   "version": "3.10.6"
  },
  "varInspector": {
   "cols": {
    "lenName": 16,
    "lenType": 16,
    "lenVar": 40
   },
   "kernels_config": {
    "python": {
     "delete_cmd_postfix": "",
     "delete_cmd_prefix": "del ",
     "library": "var_list.py",
     "varRefreshCmd": "print(var_dic_list())"
    },
    "r": {
     "delete_cmd_postfix": ") ",
     "delete_cmd_prefix": "rm(",
     "library": "var_list.r",
     "varRefreshCmd": "cat(var_dic_list()) "
    }
   },
   "types_to_exclude": [
    "module",
    "function",
    "builtin_function_or_method",
    "instance",
    "_Feature"
   ],
   "window_display": false
  }
 },
 "nbformat": 4,
 "nbformat_minor": 5
}
